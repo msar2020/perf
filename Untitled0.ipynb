{
  "nbformat": 4,
  "nbformat_minor": 0,
  "metadata": {
    "colab": {
      "name": "Untitled0.ipynb",
      "provenance": [],
      "collapsed_sections": [],
      "include_colab_link": true
    },
    "kernelspec": {
      "name": "python2",
      "display_name": "Python 2"
    }
  },
  "cells": [
    {
      "cell_type": "markdown",
      "metadata": {
        "id": "view-in-github",
        "colab_type": "text"
      },
      "source": [
        "<a href=\"https://colab.research.google.com/github/msar2020/perf/blob/main/Untitled0.ipynb\" target=\"_parent\"><img src=\"https://colab.research.google.com/assets/colab-badge.svg\" alt=\"Open In Colab\"/></a>"
      ]
    },
    {
      "cell_type": "code",
      "metadata": {
        "id": "IxYBWo4svjOj",
        "outputId": "f91834e7-a56c-4ac0-87c4-929f893125bb",
        "colab": {
          "base_uri": "https://localhost:8080/",
          "height": 332
        }
      },
      "source": [
        "!pip install face_recognition"
      ],
      "execution_count": null,
      "outputs": [
        {
          "output_type": "stream",
          "text": [
            "Collecting face_recognition\n",
            "  Downloading https://files.pythonhosted.org/packages/1e/95/f6c9330f54ab07bfa032bf3715c12455a381083125d8880c43cbe76bb3d0/face_recognition-1.3.0-py2.py3-none-any.whl\n",
            "Requirement already satisfied: numpy in /usr/local/lib/python2.7/dist-packages (from face_recognition) (1.16.4)\n",
            "Requirement already satisfied: Click>=6.0 in /usr/local/lib/python2.7/dist-packages (from face_recognition) (7.0)\n",
            "Requirement already satisfied: Pillow in /usr/local/lib/python2.7/dist-packages (from face_recognition) (4.3.0)\n",
            "Collecting face-recognition-models>=0.3.0\n",
            "\u001b[?25l  Downloading https://files.pythonhosted.org/packages/cf/3b/4fd8c534f6c0d1b80ce0973d01331525538045084c73c153ee6df20224cf/face_recognition_models-0.3.0.tar.gz (100.1MB)\n",
            "\u001b[K     |████████████████████████████████| 100.2MB 49kB/s \n",
            "\u001b[?25hRequirement already satisfied: dlib>=19.7 in /usr/local/lib/python2.7/dist-packages (from face_recognition) (19.18.0)\n",
            "Requirement already satisfied: olefile in /usr/local/lib/python2.7/dist-packages (from Pillow->face_recognition) (0.46)\n",
            "Building wheels for collected packages: face-recognition-models\n",
            "  Building wheel for face-recognition-models (setup.py) ... \u001b[?25l\u001b[?25hdone\n",
            "  Created wheel for face-recognition-models: filename=face_recognition_models-0.3.0-py2.py3-none-any.whl size=100566173 sha256=623207ac41009555007061f12a4730527e4291ef1257414f70db218461bf8efa\n",
            "  Stored in directory: /root/.cache/pip/wheels/d2/99/18/59c6c8f01e39810415c0e63f5bede7d83dfb0ffc039865465f\n",
            "Successfully built face-recognition-models\n",
            "Installing collected packages: face-recognition-models, face-recognition\n",
            "Successfully installed face-recognition-1.3.0 face-recognition-models-0.3.0\n"
          ],
          "name": "stdout"
        }
      ]
    },
    {
      "cell_type": "markdown",
      "metadata": {
        "id": "p155QxJ2ywee"
      },
      "source": [
        "# New Section"
      ]
    },
    {
      "cell_type": "markdown",
      "metadata": {
        "id": "GIjZuyIay36P"
      },
      "source": [
        "# New Section"
      ]
    },
    {
      "cell_type": "code",
      "metadata": {
        "id": "WxpNvtRkvmXy",
        "outputId": "f908831e-f9ac-4896-a758-9ba83f668f26",
        "colab": {
          "base_uri": "https://localhost:8080/",
          "height": 132
        }
      },
      "source": [
        "# with the Tkinter canvas, drawings can only be saved as .ps files \n",
        "# use PIL to draw simultaneuosly to memory and then save to file\n",
        "# PIL allows .png .jpg .gif or .bmp file formats\n"
      ],
      "execution_count": null,
      "outputs": [
        {
          "output_type": "error",
          "ename": "SyntaxError",
          "evalue": "ignored",
          "traceback": [
            "\u001b[0;36m  File \u001b[0;32m\"<ipython-input-1-292b7e788d8e>\"\u001b[0;36m, line \u001b[0;32m2\u001b[0m\n\u001b[0;31m    vegaseat 1,735 DaniWeb's Hypocrite Team Colleague\u001b[0m\n\u001b[0m             ^\u001b[0m\n\u001b[0;31mSyntaxError\u001b[0m\u001b[0;31m:\u001b[0m invalid syntax\n"
          ]
        }
      ]
    },
    {
      "cell_type": "code",
      "metadata": {
        "id": "x7E5O8y_FpYX"
      },
      "source": [
        "data1 = [3.5532732529973146, 4.657242278990452, 4.642622682004003, 7.334307950994116, 9.805946705993847, 9.751019147995976, 10.686379567006952, 15.22356434899848, 15.344349477993092, 14.415639772007125, 20.5057688819943, 20.39292970900715, 18.713726988993585, 25.040676834993064, 27.011808800001745, 22.702804721993743, 30.73680591498851, 32.92075197699887, 28.224414391996106, 36.41132206299517, 36.09982172900345, 30.405812455996056, 42.720838963999995, 43.41183393499523, 34.61401862000639, 48.96484645799501, 48.72068583399232]\n"
      ],
      "execution_count": null,
      "outputs": []
    },
    {
      "cell_type": "code",
      "metadata": {
        "id": "Pp2Kow-qyCfZ"
      },
      "source": [
        "data_bc = [i for ind,i in enumerate(data1) if ind%3 == 0]\n",
        "data_wc = [i for ind,i in enumerate(data1) if ind%3 == 1]\n",
        "data_unk = [i for ind,i in enumerate(data1) if ind%3 == 2]\n",
        "x = range(0, len(data1) // 3)"
      ],
      "execution_count": null,
      "outputs": []
    },
    {
      "cell_type": "code",
      "metadata": {
        "id": "JAb3xqeUyKL4",
        "outputId": "e2166bc4-6fcd-44d5-ac5a-e247f48fd57c",
        "colab": {
          "base_uri": "https://localhost:8080/"
        }
      },
      "source": [
        "x,data_bc"
      ],
      "execution_count": null,
      "outputs": [
        {
          "output_type": "execute_result",
          "data": {
            "text/plain": [
              "([0, 1, 2, 3, 4, 5, 6, 7, 8],\n",
              " [3.5532732529973146,\n",
              "  7.334307950994116,\n",
              "  10.686379567006952,\n",
              "  14.415639772007125,\n",
              "  18.713726988993585,\n",
              "  22.702804721993743,\n",
              "  28.224414391996106,\n",
              "  30.405812455996056,\n",
              "  34.61401862000639])"
            ]
          },
          "metadata": {
            "tags": []
          },
          "execution_count": 13
        }
      ]
    },
    {
      "cell_type": "code",
      "metadata": {
        "id": "2EibDwzayLnf"
      },
      "source": [
        "import matplotlib.pyplot as plt\n"
      ],
      "execution_count": null,
      "outputs": []
    },
    {
      "cell_type": "code",
      "metadata": {
        "id": "t0gyiH8nyj_c",
        "outputId": "2598d0a2-605c-4488-b221-8bf4d26a5b0d",
        "colab": {
          "base_uri": "https://localhost:8080/",
          "height": 167
        }
      },
      "source": [
        " plt([1, 2, 3], [1, 2, 3], 'go-', label='line 1', linewidth=2)"
      ],
      "execution_count": null,
      "outputs": [
        {
          "output_type": "error",
          "ename": "TypeError",
          "evalue": "ignored",
          "traceback": [
            "\u001b[0;31m\u001b[0m",
            "\u001b[0;31mTypeError\u001b[0mTraceback (most recent call last)",
            "\u001b[0;32m<ipython-input-9-5da367a70e6e>\u001b[0m in \u001b[0;36m<module>\u001b[0;34m()\u001b[0m\n\u001b[0;32m----> 1\u001b[0;31m \u001b[0mplt\u001b[0m\u001b[0;34m(\u001b[0m\u001b[0;34m[\u001b[0m\u001b[0;36m1\u001b[0m\u001b[0;34m,\u001b[0m \u001b[0;36m2\u001b[0m\u001b[0;34m,\u001b[0m \u001b[0;36m3\u001b[0m\u001b[0;34m]\u001b[0m\u001b[0;34m,\u001b[0m \u001b[0;34m[\u001b[0m\u001b[0;36m1\u001b[0m\u001b[0;34m,\u001b[0m \u001b[0;36m2\u001b[0m\u001b[0;34m,\u001b[0m \u001b[0;36m3\u001b[0m\u001b[0;34m]\u001b[0m\u001b[0;34m,\u001b[0m \u001b[0;34m'go-'\u001b[0m\u001b[0;34m,\u001b[0m \u001b[0mlabel\u001b[0m\u001b[0;34m=\u001b[0m\u001b[0;34m'line 1'\u001b[0m\u001b[0;34m,\u001b[0m \u001b[0mlinewidth\u001b[0m\u001b[0;34m=\u001b[0m\u001b[0;36m2\u001b[0m\u001b[0;34m)\u001b[0m\u001b[0;34m\u001b[0m\u001b[0m\n\u001b[0m",
            "\u001b[0;31mTypeError\u001b[0m: 'module' object is not callable"
          ]
        }
      ]
    },
    {
      "cell_type": "code",
      "metadata": {
        "id": "-7S2QtC1yrYl",
        "outputId": "53ee71d6-f918-49b1-e9e4-bb91a2d70b43",
        "colab": {
          "base_uri": "https://localhost:8080/",
          "height": 295
        }
      },
      "source": [
        "import matplotlib.pyplot as plt\n",
        "\n",
        "plt.plot(x, data_bc, label=\"Match - BestCase\")\n",
        "plt.plot(x, data_wc, label=\"Match - WorstCase\")\n",
        "plt.plot(x, data_unk, label=\"NoMatch - WorstCase\")\n",
        "\n",
        "plt.plot()\n",
        "\n",
        "plt.xlabel(\"Samples\")\n",
        "plt.ylabel(\"Time in secs from timeit\")\n",
        "plt.title(\"compare time in secs vs Binary search algorithm\")\n",
        "plt.legend()\n",
        "plt.show()"
      ],
      "execution_count": null,
      "outputs": [
        {
          "output_type": "display_data",
          "data": {
            "image/png": "[encoded data removed]",
            "text/plain": [
              "<Figure size 432x288 with 1 Axes>"
            ]
          },
          "metadata": {
            "tags": [],
            "needs_background": "light"
          }
        }
      ]
    },
    {
      "cell_type": "code",
      "metadata": {
        "id": "Yw6KlzsBzpXL",
        "outputId": "f9973d4f-732d-4450-aa99-fd49e2d0b771",
        "colab": {
          "base_uri": "https://localhost:8080/",
          "height": 286
        }
      },
      "source": [
        "plt.plot(np.unique(x), np.poly1d(np.polyfit(x, data_unk, 1))(np.unique(x)))"
      ],
      "execution_count": null,
      "outputs": [
        {
          "output_type": "execute_result",
          "data": {
            "text/plain": [
              "[<matplotlib.lines.Line2D at 0x7fbc1dee4190>]"
            ]
          },
          "metadata": {
            "tags": []
          },
          "execution_count": 38
        },
        {
          "output_type": "display_data",
          "data": {
            "image/png": "[encoded data removed]",
            "text/plain": [
              "<Figure size 432x288 with 1 Axes>"
            ]
          },
          "metadata": {
            "tags": [],
            "needs_background": "light"
          }
        }
      ]
    },
    {
      "cell_type": "code",
      "metadata": {
        "id": "n9i4fLmr2M4h"
      },
      "source": [
        "import numpy as np"
      ],
      "execution_count": null,
      "outputs": []
    },
    {
      "cell_type": "code",
      "metadata": {
        "id": "tUzgzpBi2O5v"
      },
      "source": [
        "x = [i[0] for i in out]\n",
        "data_bc = [i[1] for i in out]"
      ],
      "execution_count": null,
      "outputs": []
    },
    {
      "cell_type": "code",
      "metadata": {
        "id": "fx5VWZ4M2aBS",
        "outputId": "b6cc64ab-a733-4a15-a39a-556e22a7b7e4",
        "colab": {
          "base_uri": "https://localhost:8080/"
        }
      },
      "source": [
        "x"
      ],
      "execution_count": null,
      "outputs": [
        {
          "output_type": "execute_result",
          "data": {
            "text/plain": [
              "[0.0, 1.0, 2.0, 3.0, 4.0, 5.0, 6.0, 7.0, 8.0]"
            ]
          },
          "metadata": {
            "tags": []
          },
          "execution_count": 34
        }
      ]
    },
    {
      "cell_type": "code",
      "metadata": {
        "id": "qAhYkR7B2vz3"
      },
      "source": [
        "bc1 = [3.590050839004107, 3.531945444003213, 3.573110982993967, 6.915382913997746, 7.587603494990617, 7.184666097993613, 10.579225761990529, 10.699356318989885, 10.564777548002894, 15.506346936002956, 14.37671949500509, 15.777177137992112, 18.591585597998346, 19.01598485399154, 18.48663697199663, 22.03468699500081, 22.153210966993356, 25.84801064900239, 30.365377986003296, 30.020060092996573, 32.00643493999087, 33.36963069700869, 35.59013931101072, 37.34384536900325, 39.54010579800524, 37.530211757999496, 38.44860201100528]\n",
        "bc = [3.473584845996811, 4.4226194380025845, 5.468564509996213, 7.244626810002956, 8.941429542988772, 9.586256769005558, 10.434573728998657, 14.747287202000734, 14.565136161996634, 14.342118703993037, 19.7579362430115, 19.96580489599728, 18.559697333999793, 23.982743330998346, 26.049484436007333, 21.700838978009415, 30.009468873002334, 31.255204250002862, 26.665385391999735, 33.9818795480096, 37.425108804003685, 33.33043265999004, 46.683640638992074, 42.44188892599777, 34.89369618499768, 47.44582031000755, 50.02665393499774, 38.13816046899592, 52.734199557002285, 54.01694138601306, 40.98967232200084, 57.84772178999265, 59.522750874006306]\n",
        "#bc = [0.0005923690000031456, 0.013186902000029477, 0.012380989999996928, 0.0005640169999878708, 0.01390295400000241, 0.013220312999976613, 0.000564423000014358, 0.013908764000007068, 0.013258881000012934, 0.0006626239999718564, 0.013121510000019043, 0.01343147600005068, 0.0005637950000050296, 0.013923522000027333, 0.013318135000019993, 0.0005667760000278577, 0.014712019000000964, 0.014032958999962375, 0.0005632520000062868, 0.014550303000021358, 0.013920197999993889, 0.0005635569999640211, 0.01431377699998393, 0.014091458999985207, 0.0006465909999633368, 0.014697065000007115, 0.014473110999972505, 0.0005658629999629738, 0.014911696000012853, 0.013992509000047448, 0.0005637240000169186, 0.015379164999956174, 0.014726040000027751]\n"
      ],
      "execution_count": 5,
      "outputs": []
    },
    {
      "cell_type": "code",
      "metadata": {
        "id": "fs-Ftqzc4I-s",
        "outputId": "59c6adc9-401d-4bbc-f93b-038f4266a630",
        "colab": {
          "base_uri": "https://localhost:8080/",
          "height": 295
        }
      },
      "source": [
        "data_bc = [i for ind,i in enumerate(bc) if ind%3 == 0]\n",
        "data_wc = [i for ind,i in enumerate(bc) if ind%3 == 1]\n",
        "data_unk = [i for ind,i in enumerate(bc) if ind%3 == 2]\n",
        "x = range(0, len(bc) // 3)\n",
        "import pylab\n",
        "import matplotlib.pyplot as plt\n",
        "import numpy as np\n",
        "plt.plot(x, data_bc, label=\"Match - BestCase\",lw=2)\n",
        "plt.plot(x, data_wc, label=\"Match - WorstCase\")\n",
        "plt.plot(x, data_unk, label=\"NoMatch - WorstCase\")\n",
        "plt.plot(np.unique(x), np.poly1d(np.polyfit(x, data_unk, 1))(np.unique(x)), label =\"Fit\", lw=4)\n",
        "\n",
        "plt.plot()\n",
        "\n",
        "plt.xlabel(\"Samples\")\n",
        "plt.ylabel(\"Time in secs from timeit\")\n",
        "#plt.yscale('log')\n",
        "plt.title(\"compare time in secs vs Binary search algorithm\")\n",
        "plt.legend()\n",
        "plt.show()"
      ],
      "execution_count": 6,
      "outputs": [
        {
          "output_type": "display_data",
          "data": {
            "image/png": "[encoded data removed]",
            "text/plain": [
              "<Figure size 432x288 with 1 Axes>"
            ]
          },
          "metadata": {
            "tags": [],
            "needs_background": "light"
          }
        }
      ]
    },
    {
      "cell_type": "code",
      "metadata": {
        "id": "Shb-1oqy4OCS",
        "outputId": "31eca39c-40b3-41dc-8179-c57a2b5af359",
        "colab": {
          "base_uri": "https://localhost:8080/",
          "height": 269
        }
      },
      "source": [
        "import pylab\n",
        "import matplotlib.pyplot as plt\n",
        "a = [i * pow(10, i) for i in range(100)]\n",
        "fig = plt.figure()\n",
        "ax = fig.add_subplot(1, 1, 1)\n",
        "\n",
        "line, = ax.plot(a, color='blue', lw=2)\n",
        "\n",
        "ax.set_yscale('log')\n",
        "\n",
        "pylab.show()"
      ],
      "execution_count": null,
      "outputs": [
        {
          "output_type": "display_data",
          "data": {
            "image/png": "[encoded data removed]",
            "text/plain": [
              "<Figure size 432x288 with 1 Axes>"
            ]
          },
          "metadata": {
            "tags": [],
            "needs_background": "light"
          }
        }
      ]
    },
    {
      "cell_type": "code",
      "metadata": {
        "id": "hC9E_Fwz4UJC"
      },
      "source": [
        "a = [pow(10, i) for i in range(10)]\n"
      ],
      "execution_count": null,
      "outputs": []
    },
    {
      "cell_type": "code",
      "metadata": {
        "id": "U0zXiuHh4Zwj",
        "outputId": "870230ae-b606-4786-c048-55ed60eff574",
        "colab": {
          "base_uri": "https://localhost:8080/"
        }
      },
      "source": [
        "a"
      ],
      "execution_count": null,
      "outputs": [
        {
          "output_type": "execute_result",
          "data": {
            "text/plain": [
              "[0,\n",
              " 10,\n",
              " 200,\n",
              " 3000,\n",
              " 40000,\n",
              " 500000,\n",
              " 6000000,\n",
              " 70000000,\n",
              " 800000000,\n",
              " 9000000000,\n",
              " 100000000000,\n",
              " 1100000000000,\n",
              " 12000000000000,\n",
              " 130000000000000,\n",
              " 1400000000000000,\n",
              " 15000000000000000,\n",
              " 160000000000000000,\n",
              " 1700000000000000000,\n",
              " 18000000000000000000L,\n",
              " 190000000000000000000L,\n",
              " 2000000000000000000000L,\n",
              " 21000000000000000000000L,\n",
              " 220000000000000000000000L,\n",
              " 2300000000000000000000000L,\n",
              " 24000000000000000000000000L,\n",
              " 250000000000000000000000000L,\n",
              " 2600000000000000000000000000L,\n",
              " 27000000000000000000000000000L,\n",
              " 280000000000000000000000000000L,\n",
              " 2900000000000000000000000000000L,\n",
              " 30000000000000000000000000000000L,\n",
              " 310000000000000000000000000000000L,\n",
              " 3200000000000000000000000000000000L,\n",
              " 33000000000000000000000000000000000L,\n",
              " 340000000000000000000000000000000000L,\n",
              " 3500000000000000000000000000000000000L,\n",
              " 36000000000000000000000000000000000000L,\n",
              " 370000000000000000000000000000000000000L,\n",
              " 3800000000000000000000000000000000000000L,\n",
              " 39000000000000000000000000000000000000000L,\n",
              " 400000000000000000000000000000000000000000L,\n",
              " 4100000000000000000000000000000000000000000L,\n",
              " 42000000000000000000000000000000000000000000L,\n",
              " 430000000000000000000000000000000000000000000L,\n",
              " 4400000000000000000000000000000000000000000000L,\n",
              " 45000000000000000000000000000000000000000000000L,\n",
              " 460000000000000000000000000000000000000000000000L,\n",
              " 4700000000000000000000000000000000000000000000000L,\n",
              " 48000000000000000000000000000000000000000000000000L,\n",
              " 490000000000000000000000000000000000000000000000000L,\n",
              " 5000000000000000000000000000000000000000000000000000L,\n",
              " 51000000000000000000000000000000000000000000000000000L,\n",
              " 520000000000000000000000000000000000000000000000000000L,\n",
              " 5300000000000000000000000000000000000000000000000000000L,\n",
              " 54000000000000000000000000000000000000000000000000000000L,\n",
              " 550000000000000000000000000000000000000000000000000000000L,\n",
              " 5600000000000000000000000000000000000000000000000000000000L,\n",
              " 57000000000000000000000000000000000000000000000000000000000L,\n",
              " 580000000000000000000000000000000000000000000000000000000000L,\n",
              " 5900000000000000000000000000000000000000000000000000000000000L,\n",
              " 60000000000000000000000000000000000000000000000000000000000000L,\n",
              " 610000000000000000000000000000000000000000000000000000000000000L,\n",
              " 6200000000000000000000000000000000000000000000000000000000000000L,\n",
              " 63000000000000000000000000000000000000000000000000000000000000000L,\n",
              " 640000000000000000000000000000000000000000000000000000000000000000L,\n",
              " 6500000000000000000000000000000000000000000000000000000000000000000L,\n",
              " 66000000000000000000000000000000000000000000000000000000000000000000L,\n",
              " 670000000000000000000000000000000000000000000000000000000000000000000L,\n",
              " 6800000000000000000000000000000000000000000000000000000000000000000000L,\n",
              " 69000000000000000000000000000000000000000000000000000000000000000000000L,\n",
              " 700000000000000000000000000000000000000000000000000000000000000000000000L,\n",
              " 7100000000000000000000000000000000000000000000000000000000000000000000000L,\n",
              " 72000000000000000000000000000000000000000000000000000000000000000000000000L,\n",
              " 730000000000000000000000000000000000000000000000000000000000000000000000000L,\n",
              " 7400000000000000000000000000000000000000000000000000000000000000000000000000L,\n",
              " 75000000000000000000000000000000000000000000000000000000000000000000000000000L,\n",
              " 760000000000000000000000000000000000000000000000000000000000000000000000000000L,\n",
              " 7700000000000000000000000000000000000000000000000000000000000000000000000000000L,\n",
              " 78000000000000000000000000000000000000000000000000000000000000000000000000000000L,\n",
              " 790000000000000000000000000000000000000000000000000000000000000000000000000000000L,\n",
              " 8000000000000000000000000000000000000000000000000000000000000000000000000000000000L,\n",
              " 81000000000000000000000000000000000000000000000000000000000000000000000000000000000L,\n",
              " 820000000000000000000000000000000000000000000000000000000000000000000000000000000000L,\n",
              " 8300000000000000000000000000000000000000000000000000000000000000000000000000000000000L,\n",
              " 84000000000000000000000000000000000000000000000000000000000000000000000000000000000000L,\n",
              " 850000000000000000000000000000000000000000000000000000000000000000000000000000000000000L,\n",
              " 8600000000000000000000000000000000000000000000000000000000000000000000000000000000000000L,\n",
              " 87000000000000000000000000000000000000000000000000000000000000000000000000000000000000000L,\n",
              " 880000000000000000000000000000000000000000000000000000000000000000000000000000000000000000L,\n",
              " 8900000000000000000000000000000000000000000000000000000000000000000000000000000000000000000L,\n",
              " 90000000000000000000000000000000000000000000000000000000000000000000000000000000000000000000L,\n",
              " 910000000000000000000000000000000000000000000000000000000000000000000000000000000000000000000L,\n",
              " 9200000000000000000000000000000000000000000000000000000000000000000000000000000000000000000000L,\n",
              " 93000000000000000000000000000000000000000000000000000000000000000000000000000000000000000000000L,\n",
              " 940000000000000000000000000000000000000000000000000000000000000000000000000000000000000000000000L,\n",
              " 9500000000000000000000000000000000000000000000000000000000000000000000000000000000000000000000000L,\n",
              " 96000000000000000000000000000000000000000000000000000000000000000000000000000000000000000000000000L,\n",
              " 970000000000000000000000000000000000000000000000000000000000000000000000000000000000000000000000000L,\n",
              " 9800000000000000000000000000000000000000000000000000000000000000000000000000000000000000000000000000L,\n",
              " 99000000000000000000000000000000000000000000000000000000000000000000000000000000000000000000000000000L]"
            ]
          },
          "metadata": {
            "tags": []
          },
          "execution_count": 62
        }
      ]
    },
    {
      "cell_type": "code",
      "metadata": {
        "id": "lYGalcsv4aPm",
        "outputId": "924923f6-3660-49bb-cdcb-a13e2e033b9e",
        "colab": {
          "base_uri": "https://localhost:8080/"
        }
      },
      "source": [
        "bc"
      ],
      "execution_count": null,
      "outputs": [
        {
          "output_type": "execute_result",
          "data": {
            "text/plain": [
              "[[3.590050839004107,\n",
              "  3.531945444003213,\n",
              "  3.573110982993967,\n",
              "  6.915382913997746,\n",
              "  7.587603494990617,\n",
              "  7.184666097993613,\n",
              "  10.579225761990529,\n",
              "  10.699356318989885,\n",
              "  10.564777548002894,\n",
              "  15.506346936002956,\n",
              "  14.37671949500509,\n",
              "  15.777177137992112,\n",
              "  18.591585597998346,\n",
              "  19.01598485399154,\n",
              "  18.48663697199663,\n",
              "  22.03468699500081,\n",
              "  22.153210966993356,\n",
              "  25.84801064900239,\n",
              "  30.365377986003296,\n",
              "  30.020060092996573,\n",
              "  32.00643493999087,\n",
              "  33.36963069700869,\n",
              "  35.59013931101072,\n",
              "  37.34384536900325,\n",
              "  39.54010579800524,\n",
              "  37.530211757999496,\n",
              "  38.44860201100528]]"
            ]
          },
          "metadata": {
            "tags": []
          },
          "execution_count": 45
        }
      ]
    },
    {
      "cell_type": "code",
      "metadata": {
        "id": "aV7NFVVM4dIl"
      },
      "source": [
        "start = 0\n",
        "end = 100\n",
        "item = 40"
      ],
      "execution_count": null,
      "outputs": []
    },
    {
      "cell_type": "code",
      "metadata": {
        "id": "npTelmnUL4FC"
      },
      "source": [
        "def bs(start,end,item):\n",
        "  alist = range(start,end)\n",
        "  if len(alist) == 0 :\n",
        "    print(alist,start,end)\n",
        "    return False\n",
        "  else:\n",
        "      mid =  (end - start)  // 2\n",
        "      print('total : %d - Start : %d, end : %d, Mid : %d'%(len(alist),start, end, mid))\n",
        "      if item == alist[mid]:\n",
        "          return True\n",
        "      elif item < alist[mid]:\n",
        "          return bs(start,mid+ start,item)\n",
        "      else:\n",
        "          return bs(start+mid,end,item)\n",
        "\n",
        "  "
      ],
      "execution_count": null,
      "outputs": []
    },
    {
      "cell_type": "code",
      "metadata": {
        "id": "svztSL4bL91Q",
        "outputId": "994e96fa-29a6-4a87-9692-8e8bd387098e",
        "colab": {
          "base_uri": "https://localhost:8080/"
        }
      },
      "source": [
        "bs(0,10000,100)"
      ],
      "execution_count": null,
      "outputs": [
        {
          "output_type": "stream",
          "text": [
            "total : 10000 - Start : 0, end : 10000, Mid : 5000\n",
            "total : 5000 - Start : 0, end : 5000, Mid : 2500\n",
            "total : 2500 - Start : 0, end : 2500, Mid : 1250\n",
            "total : 1250 - Start : 0, end : 1250, Mid : 625\n",
            "total : 625 - Start : 0, end : 625, Mid : 312\n",
            "total : 312 - Start : 0, end : 312, Mid : 156\n",
            "total : 156 - Start : 0, end : 156, Mid : 78\n",
            "total : 78 - Start : 78, end : 156, Mid : 39\n",
            "total : 39 - Start : 78, end : 117, Mid : 19\n",
            "total : 20 - Start : 97, end : 117, Mid : 10\n",
            "total : 10 - Start : 97, end : 107, Mid : 5\n",
            "total : 5 - Start : 97, end : 102, Mid : 2\n",
            "total : 3 - Start : 99, end : 102, Mid : 1\n"
          ],
          "name": "stdout"
        },
        {
          "output_type": "execute_result",
          "data": {
            "text/plain": [
              "True"
            ]
          },
          "metadata": {
            "tags": []
          },
          "execution_count": 32
        }
      ]
    },
    {
      "cell_type": "code",
      "metadata": {
        "id": "bV0UPR2HT8hz"
      },
      "source": [
        ""
      ],
      "execution_count": null,
      "outputs": []
    },
    {
      "cell_type": "code",
      "metadata": {
        "id": "cz31sLLoL-iv"
      },
      "source": [
        ""
      ],
      "execution_count": null,
      "outputs": []
    }
  ]
}