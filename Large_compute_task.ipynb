{
  "nbformat": 4,
  "nbformat_minor": 0,
  "metadata": {
    "colab": {
      "name": "Untitled1.ipynb",
      "provenance": [],
      "collapsed_sections": [],
      "authorship_tag": "ABX9TyO2NpKj9ZknYxSwkNT2OcXF",
      "include_colab_link": true
    },
    "kernelspec": {
      "name": "python3",
      "display_name": "Python 3"
    }
  },
  "cells": [
    {
      "cell_type": "markdown",
      "metadata": {
        "id": "view-in-github",
        "colab_type": "text"
      },
      "source": [
        "<a href=\"https://colab.research.google.com/github/msar2020/perf/blob/main/Large_compute_task.ipynb\" target=\"_parent\"><img src=\"https://colab.research.google.com/assets/colab-badge.svg\" alt=\"Open In Colab\"/></a>"
      ]
    },
    {
      "cell_type": "code",
      "metadata": {
        "id": "kikPaGKi1G0x",
        "colab": {
          "base_uri": "https://localhost:8080/"
        },
        "outputId": "24040869-c222-4a86-9240-4ed517c9d3a0"
      },
      "source": [
        "''' Version 1 - Simple but Powerful E.g :Generator Vs List Memory difference '''\n",
        "import resource\n",
        "\n",
        "mem_usage = resource.getrusage(resource.RUSAGE_SELF).ru_maxrss\n",
        "print('memory Before : %s'%mem_usage)\n",
        "\n",
        "def gen_sq_numbers(no):\n",
        "  ''' Note below is a list - Memory Hogger - Went upto 1.2 G  in my system\n",
        "    return [gen**2 for gen in range(no)]\n",
        "    Note below is a generator - Has less memory\n",
        "  '''\n",
        "  return (gen**2 for gen in range(no))\n",
        "\n",
        "\n",
        "num = '1,000,000,000,000'\n",
        "\n",
        "import functools\n",
        "value = functools.reduce(lambda x,y: x+y, gen_sq_numbers(int(num.replace(',',''))))\n",
        "print(value)\n",
        "\n",
        "\n",
        "mem_usage = resource.getrusage(resource.RUSAGE_SELF).ru_maxrss\n",
        "print('memory After : %s'%mem_usage)\n",
        "\n"
      ],
      "execution_count": null,
      "outputs": [
        {
          "output_type": "stream",
          "text": [
            "memory Before : 109112\n"
          ],
          "name": "stdout"
        }
      ]
    },
    {
      "cell_type": "code",
      "metadata": {
        "id": "tj_nyXPIURSl",
        "colab": {
          "base_uri": "https://localhost:8080/",
          "height": 167
        },
        "outputId": "0b987977-9fb5-4ebc-c54d-9911b6ed85b3"
      },
      "source": [
        ""
      ],
      "execution_count": 4,
      "outputs": [
        {
          "output_type": "error",
          "ename": "NameError",
          "evalue": "ignored",
          "traceback": [
            "\u001b[0;31m---------------------------------------------------------------------------\u001b[0m",
            "\u001b[0;31mNameError\u001b[0m                                 Traceback (most recent call last)",
            "\u001b[0;32m<ipython-input-4-2b3b7f6975d8>\u001b[0m in \u001b[0;36m<module>\u001b[0;34m()\u001b[0m\n\u001b[0;32m----> 1\u001b[0;31m \u001b[0mvalue\u001b[0m\u001b[0;34m\u001b[0m\u001b[0;34m\u001b[0m\u001b[0m\n\u001b[0m",
            "\u001b[0;31mNameError\u001b[0m: name 'value' is not defined"
          ]
        }
      ]
    },
    {
      "cell_type": "code",
      "metadata": {
        "id": "DOY5X0wToGpH"
      },
      "source": [
        ""
      ],
      "execution_count": null,
      "outputs": []
    }
  ]
}